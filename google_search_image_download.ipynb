{
 "cells": [
  {
   "cell_type": "code",
   "execution_count": 1,
   "metadata": {},
   "outputs": [],
   "source": [
    "import requests\n",
    "from bs4 import BeautifulSoup\n",
    "import os\n",
    "import time\n",
    "import io\n",
    "from PIL import Image\n",
    "import hashlib"
   ]
  },
  {
   "cell_type": "code",
   "execution_count": 2,
   "metadata": {},
   "outputs": [],
   "source": [
    "#!pip install selenium"
   ]
  },
  {
   "cell_type": "code",
   "execution_count": 3,
   "metadata": {},
   "outputs": [],
   "source": [
    "import selenium\n",
    "from selenium import webdriver\n",
    "DRIVER_PATH = r'C:\\Users\\vivek\\Downloads\\chromedriver_win32\\chromedriver.exe'\n",
    "wd = webdriver.Chrome(executable_path=DRIVER_PATH)"
   ]
  },
  {
   "cell_type": "code",
   "execution_count": 4,
   "metadata": {},
   "outputs": [],
   "source": [
    "wd.get('https://google.com')\n",
    "search_box = wd.find_element_by_css_selector('input.gLFyf')\n",
    "search_box.send_keys('indian terrorist photos')"
   ]
  },
  {
   "cell_type": "code",
   "execution_count": 5,
   "metadata": {},
   "outputs": [],
   "source": [
    "\n",
    "def fetch_image_urls(query:str, max_links_to_fetch:int, wd:webdriver, sleep_between_interactions:int=1):\n",
    "    def scroll_to_end(wd):\n",
    "        wd.execute_script(\"window.scrollTo(0, document.body.scrollHeight);\")\n",
    "        time.sleep(sleep_between_interactions)    \n",
    "    \n",
    "    # build the google query\n",
    "    search_url = \"https://www.google.com/search?safe=off&site=&tbm=isch&source=hp&q={q}&oq={q}&gs_l=img\"\n",
    "\n",
    "    # load the page\n",
    "    wd.get(search_url.format(q=query))\n",
    "\n",
    "    image_urls = set()\n",
    "    image_count = 0\n",
    "    results_start = 0\n",
    "    while image_count < max_links_to_fetch:\n",
    "        scroll_to_end(wd)\n",
    "\n",
    "        # get all image thumbnail results\n",
    "        thumbnail_results = wd.find_elements_by_css_selector(\"img.Q4LuWd\")\n",
    "        number_results = len(thumbnail_results)\n",
    "        \n",
    "        print(f\"Found: {number_results} search results. Extracting links from {results_start}:{number_results}\")\n",
    "        \n",
    "        for img in thumbnail_results[results_start:number_results]:\n",
    "            # try to click every thumbnail such that we can get the real image behind it\n",
    "            try:\n",
    "                img.click()\n",
    "                time.sleep(sleep_between_interactions)\n",
    "            except Exception:\n",
    "                continue\n",
    "\n",
    "            # extract image urls    \n",
    "            actual_images = wd.find_elements_by_css_selector('img.n3VNCb')\n",
    "            for actual_image in actual_images:\n",
    "                if actual_image.get_attribute('src') and 'http' in actual_image.get_attribute('src'):\n",
    "                    image_urls.add(actual_image.get_attribute('src'))\n",
    "\n",
    "            image_count = len(image_urls)\n",
    "\n",
    "            if len(image_urls) >= max_links_to_fetch:\n",
    "                print(f\"Found: {len(image_urls)} image links, done!\")\n",
    "                break\n",
    "        else:\n",
    "            print(\"Found:\", len(image_urls), \"image links, looking for more ...\")\n",
    "            time.sleep(30)\n",
    "            return\n",
    "            load_more_button = wd.find_element_by_css_selector(\".mye4qd\")\n",
    "            if load_more_button:\n",
    "                wd.execute_script(\"document.querySelector('.mye4qd').click();\")\n",
    "\n",
    "        # move the result startpoint further down\n",
    "        results_start = len(thumbnail_results)\n",
    "\n",
    "    return image_urls"
   ]
  },
  {
   "cell_type": "code",
   "execution_count": 6,
   "metadata": {},
   "outputs": [],
   "source": [
    "def persist_image(folder_path:str,url:str):\n",
    "    try:\n",
    "        image_content = requests.get(url).content\n",
    "\n",
    "    except Exception as e:\n",
    "        print(f\"ERROR - Could not download {url} - {e}\")\n",
    "\n",
    "    try:\n",
    "        image_file = io.BytesIO(image_content)\n",
    "        image = Image.open(image_file).convert('RGB')\n",
    "        file_path = os.path.join(folder_path,hashlib.sha1(image_content).hexdigest()[:10] + '.jpg')\n",
    "        with open(file_path, 'wb') as f:\n",
    "            image.save(f, \"JPEG\", quality=85)\n",
    "        print(f\"SUCCESS - saved {url} - as {file_path}\")\n",
    "    except Exception as e:\n",
    "        print(f\"ERROR - Could not save {url} - {e}\")"
   ]
  },
  {
   "cell_type": "code",
   "execution_count": 7,
   "metadata": {},
   "outputs": [],
   "source": [
    "def search_and_download(search_term:str,driver_path:str,target_path=r'C:\\Users\\vivek\\Desktop\\New folder\\images\\terrorist',number_images=100):\n",
    "    target_folder = os.path.join(target_path,'_'.join(search_term.lower().split(' ')))\n",
    "\n",
    "    if not os.path.exists(target_folder):\n",
    "        os.makedirs(target_folder)\n",
    "\n",
    "    with webdriver.Chrome(executable_path=driver_path) as wd:\n",
    "        res = fetch_image_urls(search_term, number_images, wd=wd, sleep_between_interactions=0.5)\n",
    "        \n",
    "    for elem in res:\n",
    "        persist_image(target_folder,elem)"
   ]
  },
  {
   "cell_type": "code",
   "execution_count": 8,
   "metadata": {},
   "outputs": [
    {
     "name": "stdout",
     "output_type": "stream",
     "text": [
      "Found: 100 search results. Extracting links from 0:100\n",
      "Found: 100 image links, done!\n",
      "SUCCESS - saved https://encrypted-tbn0.gstatic.com/images?q=tbn%3AANd9GcTtpNH_Nk1yJLU-Yfd6pWn09rua33EfABSVsg&usqp=CAU - as C:\\Users\\vivek\\Desktop\\New folder\\images\\terrorist\\indian_terrorist_photos\\547360b4fb.jpg\n",
      "SUCCESS - saved https://encrypted-tbn0.gstatic.com/images?q=tbn%3AANd9GcR7S3fW1_Nxk8rJxApYPo1M35cTf3HnvTaMRA&usqp=CAU - as C:\\Users\\vivek\\Desktop\\New folder\\images\\terrorist\\indian_terrorist_photos\\aff2d463f4.jpg\n",
      "SUCCESS - saved https://encrypted-tbn0.gstatic.com/images?q=tbn%3AANd9GcQMzzTaoIuZdtDypOsf-EvXvmBxAety7AfK7Q&usqp=CAU - as C:\\Users\\vivek\\Desktop\\New folder\\images\\terrorist\\indian_terrorist_photos\\f5f380ec5d.jpg\n",
      "SUCCESS - saved https://images.financialexpress.com/2016/09/all-pakistani-terro-chief-L.jpg - as C:\\Users\\vivek\\Desktop\\New folder\\images\\terrorist\\indian_terrorist_photos\\92dba82e51.jpg\n",
      "SUCCESS - saved https://encrypted-tbn0.gstatic.com/images?q=tbn%3AANd9GcQkH8A6P5aYLNK6J31kY0cJxtWvHSll1lLR5w&usqp=CAU - as C:\\Users\\vivek\\Desktop\\New folder\\images\\terrorist\\indian_terrorist_photos\\87b5cd91a7.jpg\n",
      "SUCCESS - saved https://resize.indiatvnews.com/en/resize/newbucket/1200_-/2020/05/terrorist-1590070280.jpg - as C:\\Users\\vivek\\Desktop\\New folder\\images\\terrorist\\indian_terrorist_photos\\51fefca240.jpg\n",
      "SUCCESS - saved https://encrypted-tbn0.gstatic.com/images?q=tbn%3AANd9GcRqJGYebU1DjmJKHAH709Sr3B-XsvRE547Djw&usqp=CAU - as C:\\Users\\vivek\\Desktop\\New folder\\images\\terrorist\\indian_terrorist_photos\\549b56a0b2.jpg\n",
      "SUCCESS - saved https://encrypted-tbn0.gstatic.com/images?q=tbn%3AANd9GcTx_bsGmQBcF7u1PRy759YJKUTlHn5y_95Wyw&usqp=CAU - as C:\\Users\\vivek\\Desktop\\New folder\\images\\terrorist\\indian_terrorist_photos\\d8b6c4b86f.jpg\n",
      "SUCCESS - saved https://encrypted-tbn0.gstatic.com/images?q=tbn%3AANd9GcREXv9EqR-qjZSQV6G3cF1r5MA_8tRKX_JAug&usqp=CAU - as C:\\Users\\vivek\\Desktop\\New folder\\images\\terrorist\\indian_terrorist_photos\\ba329eab62.jpg\n",
      "SUCCESS - saved https://m.hindustantimes.com/rf/image_size_444x250/HT/p2/2020/05/02/Pictures/shopian-soldiers-khajpura-district-encounter-site-reban_b031d876-8c88-11ea-8f61-783f666b6086.jpg - as C:\\Users\\vivek\\Desktop\\New folder\\images\\terrorist\\indian_terrorist_photos\\844a87fcf0.jpg\n",
      "SUCCESS - saved https://encrypted-tbn0.gstatic.com/images?q=tbn%3AANd9GcTTU5maIkxtYn3v9wJ01xekRjJubhdHAbR6kg&usqp=CAU - as C:\\Users\\vivek\\Desktop\\New folder\\images\\terrorist\\indian_terrorist_photos\\670a73a662.jpg\n",
      "SUCCESS - saved https://encrypted-tbn0.gstatic.com/images?q=tbn%3AANd9GcR9HrwXxnoJurkHvtGvsOWN2dN3RV6ibfbjOw&usqp=CAU - as C:\\Users\\vivek\\Desktop\\New folder\\images\\terrorist\\indian_terrorist_photos\\e86eaf222b.jpg\n",
      "SUCCESS - saved https://encrypted-tbn0.gstatic.com/images?q=tbn%3AANd9GcR1yGsYkTFICStMdTOKA6nANzmRyJAADVOiig&usqp=CAU - as C:\\Users\\vivek\\Desktop\\New folder\\images\\terrorist\\indian_terrorist_photos\\1ebcec66d1.jpg\n",
      "SUCCESS - saved https://encrypted-tbn0.gstatic.com/images?q=tbn%3AANd9GcRs2g9lwuXMnxLUWMKt5yM6CCB7rJ7EWaP4Yw&usqp=CAU - as C:\\Users\\vivek\\Desktop\\New folder\\images\\terrorist\\indian_terrorist_photos\\bd34ccd458.jpg\n",
      "SUCCESS - saved https://encrypted-tbn0.gstatic.com/images?q=tbn%3AANd9GcTq1Gxnz5AebNOV-6f2vLuVtl7zwJgqOWBGQw&usqp=CAU - as C:\\Users\\vivek\\Desktop\\New folder\\images\\terrorist\\indian_terrorist_photos\\b81c9283d1.jpg\n"
     ]
    },
    {
     "name": "stderr",
     "output_type": "stream",
     "text": [
      "C:\\ProgramData\\Anaconda3\\lib\\site-packages\\PIL\\Image.py:2685: UserWarning: image file could not be identified because WEBP support not installed\n",
      "  warnings.warn(message)\n"
     ]
    },
    {
     "name": "stdout",
     "output_type": "stream",
     "text": [
      "ERROR - Could not save https://qph.fs.quoracdn.net/main-qimg-ff79583e9284ab818fc8927607edf1ec.webp - cannot identify image file <_io.BytesIO object at 0x000002AD03FC4570>\n",
      "SUCCESS - saved https://im.rediff.com/news/2015/nov/19terror.jpg - as C:\\Users\\vivek\\Desktop\\New folder\\images\\terrorist\\indian_terrorist_photos\\e0d0649b03.jpg\n",
      "SUCCESS - saved https://encrypted-tbn0.gstatic.com/images?q=tbn%3AANd9GcRhMKeXJ2l2Laf1i8srxzxjrZxqK0kBT3vzmQ&usqp=CAU - as C:\\Users\\vivek\\Desktop\\New folder\\images\\terrorist\\indian_terrorist_photos\\e2a2e8ac5f.jpg\n",
      "SUCCESS - saved https://assets.bwbx.io/images/users/iqjWHBFdfxIU/iay90FpYRU2g/v1/1000x-1.jpg - as C:\\Users\\vivek\\Desktop\\New folder\\images\\terrorist\\indian_terrorist_photos\\83ca6b1782.jpg\n",
      "SUCCESS - saved https://encrypted-tbn0.gstatic.com/images?q=tbn%3AANd9GcQW4UVKEOKgkHdI9VV4gOjHdxj2oQRII1jDIQ&usqp=CAU - as C:\\Users\\vivek\\Desktop\\New folder\\images\\terrorist\\indian_terrorist_photos\\a37be6f085.jpg\n",
      "SUCCESS - saved https://encrypted-tbn0.gstatic.com/images?q=tbn%3AANd9GcRPodzBJav02eMB1Xqexw9objIgmUQQkbWpTw&usqp=CAU - as C:\\Users\\vivek\\Desktop\\New folder\\images\\terrorist\\indian_terrorist_photos\\70f62f723c.jpg\n",
      "SUCCESS - saved https://encrypted-tbn0.gstatic.com/images?q=tbn%3AANd9GcT0iJQTi_LzVAi5qjGJqANq5l1JJQUEclOhNg&usqp=CAU - as C:\\Users\\vivek\\Desktop\\New folder\\images\\terrorist\\indian_terrorist_photos\\0ba34faca5.jpg\n",
      "SUCCESS - saved https://encrypted-tbn0.gstatic.com/images?q=tbn%3AANd9GcT2_KMHqdG5c8k4Iny60TR0tJ5rAt6cVE81ng&usqp=CAU - as C:\\Users\\vivek\\Desktop\\New folder\\images\\terrorist\\indian_terrorist_photos\\3c518c8860.jpg\n",
      "SUCCESS - saved https://images.indianexpress.com/2019/07/terrorist.jpg - as C:\\Users\\vivek\\Desktop\\New folder\\images\\terrorist\\indian_terrorist_photos\\dcb66585e6.jpg\n",
      "SUCCESS - saved https://th.thgim.com/news/cities/chennai/v62seo/article27074164.ece/alternates/FREE_435/9THKAMAL - as C:\\Users\\vivek\\Desktop\\New folder\\images\\terrorist\\indian_terrorist_photos\\3f16d89380.jpg\n",
      "SUCCESS - saved https://encrypted-tbn0.gstatic.com/images?q=tbn%3AANd9GcSNeo8xhxdj5NYjQWNCEiN87zf9Zt2K1CoTJg&usqp=CAU - as C:\\Users\\vivek\\Desktop\\New folder\\images\\terrorist\\indian_terrorist_photos\\10459edd41.jpg\n",
      "SUCCESS - saved https://encrypted-tbn0.gstatic.com/images?q=tbn%3AANd9GcQl8RmNGYq31NFPE4KNOagcuk088uWaw51qKw&usqp=CAU - as C:\\Users\\vivek\\Desktop\\New folder\\images\\terrorist\\indian_terrorist_photos\\4e71c687b2.jpg\n",
      "SUCCESS - saved https://encrypted-tbn0.gstatic.com/images?q=tbn%3AANd9GcRLAX8EGwtxGAgGV5kMsQrsfzHyJxiG2wzPKg&usqp=CAU - as C:\\Users\\vivek\\Desktop\\New folder\\images\\terrorist\\indian_terrorist_photos\\4ef6a7762f.jpg\n",
      "SUCCESS - saved https://encrypted-tbn0.gstatic.com/images?q=tbn%3AANd9GcQsZdGh-Gn0GEOPSiG2luNcAxMVdp_y0eUh1g&usqp=CAU - as C:\\Users\\vivek\\Desktop\\New folder\\images\\terrorist\\indian_terrorist_photos\\4f06c86ef9.jpg\n",
      "SUCCESS - saved https://encrypted-tbn0.gstatic.com/images?q=tbn%3AANd9GcQTDJE0FLKcNAvE_0-_BgQ7OXuz2dAkmpy7MA&usqp=CAU - as C:\\Users\\vivek\\Desktop\\New folder\\images\\terrorist\\indian_terrorist_photos\\20d72eab96.jpg\n",
      "SUCCESS - saved https://im.rediff.com/news/2012/feb/01sd1.jpg - as C:\\Users\\vivek\\Desktop\\New folder\\images\\terrorist\\indian_terrorist_photos\\a9dcd20206.jpg\n",
      "SUCCESS - saved https://images.wsj.net/im-71022?width=620&size=1.5 - as C:\\Users\\vivek\\Desktop\\New folder\\images\\terrorist\\indian_terrorist_photos\\cdcdb7effb.jpg\n",
      "SUCCESS - saved https://encrypted-tbn0.gstatic.com/images?q=tbn%3AANd9GcStHdhkLYtD14XVPuO4X0QSHVN4mb_k7OxsDA&usqp=CAU - as C:\\Users\\vivek\\Desktop\\New folder\\images\\terrorist\\indian_terrorist_photos\\4568e5566c.jpg\n",
      "SUCCESS - saved https://encrypted-tbn0.gstatic.com/images?q=tbn%3AANd9GcTP3fjhYrWeKlGMckbtnmWjXv9DRJyL383lcw&usqp=CAU - as C:\\Users\\vivek\\Desktop\\New folder\\images\\terrorist\\indian_terrorist_photos\\97b3a02469.jpg\n",
      "SUCCESS - saved https://encrypted-tbn0.gstatic.com/images?q=tbn%3AANd9GcR7z8_030t9MKeEWGNwUr4WdWkWqYGdWzcI9w&usqp=CAU - as C:\\Users\\vivek\\Desktop\\New folder\\images\\terrorist\\indian_terrorist_photos\\e22f147c58.jpg\n",
      "SUCCESS - saved https://encrypted-tbn0.gstatic.com/images?q=tbn%3AANd9GcRFh9i35Xi7GUSxLvzyo4CGunx_cdLNXbVZzA&usqp=CAU - as C:\\Users\\vivek\\Desktop\\New folder\\images\\terrorist\\indian_terrorist_photos\\c6e498746a.jpg\n",
      "SUCCESS - saved https://images.indianexpress.com/2018/11/masood-azhar-759.jpg - as C:\\Users\\vivek\\Desktop\\New folder\\images\\terrorist\\indian_terrorist_photos\\dca3329e33.jpg\n",
      "SUCCESS - saved https://cdn.dnaindia.com/sites/default/files/styles/full/public/2019/02/06/787503-army-indian-pti-020619.jpg - as C:\\Users\\vivek\\Desktop\\New folder\\images\\terrorist\\indian_terrorist_photos\\ca13f431d4.jpg\n",
      "SUCCESS - saved https://encrypted-tbn0.gstatic.com/images?q=tbn%3AANd9GcT9jiFvKzOt9Yk7L5cB66x4H865GA_gRo1ooA&usqp=CAU - as C:\\Users\\vivek\\Desktop\\New folder\\images\\terrorist\\indian_terrorist_photos\\01ce17a519.jpg\n",
      "SUCCESS - saved https://encrypted-tbn0.gstatic.com/images?q=tbn%3AANd9GcTunltFHjVRD05eK1CbICuu_JgvE_QRWLaCGA&usqp=CAU - as C:\\Users\\vivek\\Desktop\\New folder\\images\\terrorist\\indian_terrorist_photos\\59555d6c83.jpg\n",
      "SUCCESS - saved https://ichef.bbci.co.uk/news/410/cpsprodpb/4897/production/_105238581_nirmala_quote_2.png - as C:\\Users\\vivek\\Desktop\\New folder\\images\\terrorist\\indian_terrorist_photos\\519a20b413.jpg\n",
      "SUCCESS - saved https://cdn.dnaindia.com/sites/default/files/styles/full/public/2019/07/31/854219-armyindian-073119.jpg - as C:\\Users\\vivek\\Desktop\\New folder\\images\\terrorist\\indian_terrorist_photos\\6cb19dce2d.jpg\n",
      "SUCCESS - saved https://encrypted-tbn0.gstatic.com/images?q=tbn%3AANd9GcSCXqOHpSSbbOnua_2xIej-iEtg6e27_OwPrw&usqp=CAU - as C:\\Users\\vivek\\Desktop\\New folder\\images\\terrorist\\indian_terrorist_photos\\f087f8c31e.jpg\n",
      "SUCCESS - saved https://encrypted-tbn0.gstatic.com/images?q=tbn%3AANd9GcS2p71emduy2lXVpBxkA6ufxbtfMMnpEiAWDw&usqp=CAU - as C:\\Users\\vivek\\Desktop\\New folder\\images\\terrorist\\indian_terrorist_photos\\22108596a6.jpg\n",
      "SUCCESS - saved https://encrypted-tbn0.gstatic.com/images?q=tbn%3AANd9GcQD60Vx8zAYh726IZXxgNd1wBTL5Czcy8bEBA&usqp=CAU - as C:\\Users\\vivek\\Desktop\\New folder\\images\\terrorist\\indian_terrorist_photos\\27620d2774.jpg\n",
      "SUCCESS - saved https://cdn.dnaindia.com/sites/default/files/styles/full/public/2020/06/26/910827-904978-874588-armyindian-ani-100919.jpg - as C:\\Users\\vivek\\Desktop\\New folder\\images\\terrorist\\indian_terrorist_photos\\4e06c079e7.jpg\n",
      "SUCCESS - saved https://encrypted-tbn0.gstatic.com/images?q=tbn%3AANd9GcQyLKfbyVkRivfvRLBVY3Y1T_SfVw4PMf0HgA&usqp=CAU - as C:\\Users\\vivek\\Desktop\\New folder\\images\\terrorist\\indian_terrorist_photos\\adccb35d85.jpg\n",
      "SUCCESS - saved https://encrypted-tbn0.gstatic.com/images?q=tbn%3AANd9GcTInF14dezQcH2-7G2HgnjXG56QtAHic8xXjw&usqp=CAU - as C:\\Users\\vivek\\Desktop\\New folder\\images\\terrorist\\indian_terrorist_photos\\2f443eeeb7.jpg\n",
      "SUCCESS - saved https://encrypted-tbn0.gstatic.com/images?q=tbn%3AANd9GcRpbCs9YCsotGU9uBpOH5TsOfUV2dylVCRPJw&usqp=CAU - as C:\\Users\\vivek\\Desktop\\New folder\\images\\terrorist\\indian_terrorist_photos\\3c9fe60470.jpg\n",
      "SUCCESS - saved https://encrypted-tbn0.gstatic.com/images?q=tbn%3AANd9GcTMxSkXXZO8hZWAp-C1kV6OdgBcs-b6erXA_Q&usqp=CAU - as C:\\Users\\vivek\\Desktop\\New folder\\images\\terrorist\\indian_terrorist_photos\\f38568cd83.jpg\n",
      "SUCCESS - saved https://www.aljazeera.com/mritems/imagecache/mbdxxlarge/mritems/Images/2019/3/27/8da12e168c9547c5a3cf0f813470027c_18.jpg - as C:\\Users\\vivek\\Desktop\\New folder\\images\\terrorist\\indian_terrorist_photos\\3ab81dc582.jpg\n",
      "SUCCESS - saved https://encrypted-tbn0.gstatic.com/images?q=tbn%3AANd9GcSYpmZOd0TwSwr75rp1ggOCxxpt1Kz3xerYzw&usqp=CAU - as C:\\Users\\vivek\\Desktop\\New folder\\images\\terrorist\\indian_terrorist_photos\\8c84dffe42.jpg\n",
      "SUCCESS - saved https://encrypted-tbn0.gstatic.com/images?q=tbn%3AANd9GcRUAAAGFbkIOulSpS5rGlvu70_jj71X0wN5pw&usqp=CAU - as C:\\Users\\vivek\\Desktop\\New folder\\images\\terrorist\\indian_terrorist_photos\\181e710654.jpg\n",
      "SUCCESS - saved https://encrypted-tbn0.gstatic.com/images?q=tbn%3AANd9GcSkl3lmGH3Jc4IJWbtPrhM0CgcL6RaPRVAfrA&usqp=CAU - as C:\\Users\\vivek\\Desktop\\New folder\\images\\terrorist\\indian_terrorist_photos\\89251066ce.jpg\n",
      "SUCCESS - saved https://encrypted-tbn0.gstatic.com/images?q=tbn%3AANd9GcQKZV0acyK6YTPsOGYNwfkdDhaP1JBZySZkJQ&usqp=CAU - as C:\\Users\\vivek\\Desktop\\New folder\\images\\terrorist\\indian_terrorist_photos\\0fc66a1d80.jpg\n"
     ]
    },
    {
     "name": "stdout",
     "output_type": "stream",
     "text": [
      "SUCCESS - saved https://encrypted-tbn0.gstatic.com/images?q=tbn%3AANd9GcQDvVM3ZR9ZoECAu1k-25WfA0toTxZ-TtQzxA&usqp=CAU - as C:\\Users\\vivek\\Desktop\\New folder\\images\\terrorist\\indian_terrorist_photos\\1b5285f240.jpg\n",
      "SUCCESS - saved https://encrypted-tbn0.gstatic.com/images?q=tbn%3AANd9GcQAV7MvrmYZe7QkeR-WkmNXecM3c3qsNWhB-w&usqp=CAU - as C:\\Users\\vivek\\Desktop\\New folder\\images\\terrorist\\indian_terrorist_photos\\9689ef0bfb.jpg\n",
      "SUCCESS - saved https://www.irishtimes.com/polopoly_fs/1.3971921.1564493919!/image/image.jpg_gen/derivatives/box_620_330/image.jpg - as C:\\Users\\vivek\\Desktop\\New folder\\images\\terrorist\\indian_terrorist_photos\\17d84c0cd6.jpg\n",
      "SUCCESS - saved https://images.financialexpress.com/2017/03/Afzal-guru.jpg - as C:\\Users\\vivek\\Desktop\\New folder\\images\\terrorist\\indian_terrorist_photos\\8a1b653f79.jpg\n",
      "SUCCESS - saved https://m.jagranjosh.com/imported/images/E/GK/us_blocks_pakistans_proposal_to_designate_indian_citizen_terrorist.jpg - as C:\\Users\\vivek\\Desktop\\New folder\\images\\terrorist\\indian_terrorist_photos\\c77de40534.jpg\n",
      "SUCCESS - saved https://encrypted-tbn0.gstatic.com/images?q=tbn%3AANd9GcSGyNAjnoaLM5MIzqE8h6ulOMqq2mYF-X61Vg&usqp=CAU - as C:\\Users\\vivek\\Desktop\\New folder\\images\\terrorist\\indian_terrorist_photos\\21d7e59914.jpg\n",
      "SUCCESS - saved https://encrypted-tbn0.gstatic.com/images?q=tbn%3AANd9GcSyJb73uLy0_A2NpKmZYaLQzOWmpz3ZUnS7-w&usqp=CAU - as C:\\Users\\vivek\\Desktop\\New folder\\images\\terrorist\\indian_terrorist_photos\\01b27d947c.jpg\n",
      "SUCCESS - saved https://upload.wikimedia.org/wikipedia/commons/thumb/d/da/Total_terror_attack_caused_deaths_in_select_nations_in_2012_per_State_Department_of_United_States.png/260px-Total_terror_attack_caused_deaths_in_select_nations_in_2012_per_State_Department_of_United_States.png - as C:\\Users\\vivek\\Desktop\\New folder\\images\\terrorist\\indian_terrorist_photos\\ee6524fa42.jpg\n",
      "SUCCESS - saved https://www.sify.com/uploads/lfmr2reggcfsi.jpg - as C:\\Users\\vivek\\Desktop\\New folder\\images\\terrorist\\indian_terrorist_photos\\8ef1d4d455.jpg\n",
      "SUCCESS - saved https://m.hindustantimes.com/rf/image_size_444x250/HT/p2/2019/03/08/Pictures/files-pakistan-religious-un_b99a93bc-4152-11e9-96e6-2d3dd9dcb23f.jpg - as C:\\Users\\vivek\\Desktop\\New folder\\images\\terrorist\\indian_terrorist_photos\\2e65e1c95e.jpg\n",
      "SUCCESS - saved https://bsmedia.business-standard.com/_media/bs/img/article/2019-08/05/full/1565002490-6013.jpg - as C:\\Users\\vivek\\Desktop\\New folder\\images\\terrorist\\indian_terrorist_photos\\117c6a20da.jpg\n",
      "SUCCESS - saved https://im.rediff.com/news/2016/nov/21terror1.jpg - as C:\\Users\\vivek\\Desktop\\New folder\\images\\terrorist\\indian_terrorist_photos\\c285b9511c.jpg\n",
      "SUCCESS - saved https://i.ndtvimg.com/video/images/vod/medium/2018-01/big_477127_1516613624.jpg - as C:\\Users\\vivek\\Desktop\\New folder\\images\\terrorist\\indian_terrorist_photos\\071294b292.jpg\n",
      "SUCCESS - saved https://images.livemint.com/img/2020/05/03/600x338/ER_1588526192306_1588526192513.jpg - as C:\\Users\\vivek\\Desktop\\New folder\\images\\terrorist\\indian_terrorist_photos\\5f695d4854.jpg\n",
      "SUCCESS - saved https://bsmedia.business-standard.com/_media/bs/img/article/2019-11/20/full/1574262911-0018.jpg - as C:\\Users\\vivek\\Desktop\\New folder\\images\\terrorist\\indian_terrorist_photos\\f38b1d8801.jpg\n",
      "SUCCESS - saved https://img.etimg.com/thumb/width-640,height-480,imgsize-513855,resizemode-1,msid-69302221/indias-first-terrorist-was-hindu-says-kamal-haasan.jpg - as C:\\Users\\vivek\\Desktop\\New folder\\images\\terrorist\\indian_terrorist_photos\\8957c644fa.jpg\n",
      "SUCCESS - saved https://encrypted-tbn0.gstatic.com/images?q=tbn%3AANd9GcRwcfNbRjCGIm6ZtqhyUMN8FOMbxggjwHZa7w&usqp=CAU - as C:\\Users\\vivek\\Desktop\\New folder\\images\\terrorist\\indian_terrorist_photos\\313f6e5481.jpg\n",
      "SUCCESS - saved https://s3.india.com/wp-content/uploads/2019/06/pjimage-67.jpg - as C:\\Users\\vivek\\Desktop\\New folder\\images\\terrorist\\indian_terrorist_photos\\94b2cdea1e.jpg\n",
      "SUCCESS - saved https://resize.indiatvnews.com/en/resize/newbucket/715_-/2016/05/isis-poster-boy1-1462171304.jpg - as C:\\Users\\vivek\\Desktop\\New folder\\images\\terrorist\\indian_terrorist_photos\\6faad66f9c.jpg\n",
      "SUCCESS - saved https://encrypted-tbn0.gstatic.com/images?q=tbn%3AANd9GcR5S0sU_lJSGwCOU4WnKmPzUhn7sV-VhASonw&usqp=CAU - as C:\\Users\\vivek\\Desktop\\New folder\\images\\terrorist\\indian_terrorist_photos\\f9b4927bae.jpg\n",
      "SUCCESS - saved https://images.financialexpress.com/2018/04/hafizSaeed.jpg - as C:\\Users\\vivek\\Desktop\\New folder\\images\\terrorist\\indian_terrorist_photos\\593cf519f5.jpg\n",
      "SUCCESS - saved https://encrypted-tbn0.gstatic.com/images?q=tbn%3AANd9GcSgPME4UrCVNnH1H9fZypXt9a1vjJ3B58sSsA&usqp=CAU - as C:\\Users\\vivek\\Desktop\\New folder\\images\\terrorist\\indian_terrorist_photos\\f01a99419a.jpg\n",
      "SUCCESS - saved https://images.wsj.net/im-56105?width=620&size=1.5 - as C:\\Users\\vivek\\Desktop\\New folder\\images\\terrorist\\indian_terrorist_photos\\341f88f2c8.jpg\n",
      "SUCCESS - saved https://encrypted-tbn0.gstatic.com/images?q=tbn%3AANd9GcS-wQfoGLmtA5RxYPtrnEMFVIbnw3b-sLFXpg&usqp=CAU - as C:\\Users\\vivek\\Desktop\\New folder\\images\\terrorist\\indian_terrorist_photos\\1d5cd488a2.jpg\n",
      "SUCCESS - saved https://encrypted-tbn0.gstatic.com/images?q=tbn%3AANd9GcTO2_mQq85Cg55kLhnIetq7tK8QceCiqoKxMQ&usqp=CAU - as C:\\Users\\vivek\\Desktop\\New folder\\images\\terrorist\\indian_terrorist_photos\\f865b4909a.jpg\n",
      "SUCCESS - saved https://img.theweek.in/content/dam/week/news/entertainment/images/2019/4/16/arjun-kapoor-india-most-wanted.jpg - as C:\\Users\\vivek\\Desktop\\New folder\\images\\terrorist\\indian_terrorist_photos\\c0150bb3e9.jpg\n",
      "SUCCESS - saved https://encrypted-tbn0.gstatic.com/images?q=tbn%3AANd9GcR6B-qJWUAmUZQISN7EDylGRMnvROYn6ilpTQ&usqp=CAU - as C:\\Users\\vivek\\Desktop\\New folder\\images\\terrorist\\indian_terrorist_photos\\3b3f628301.jpg\n",
      "SUCCESS - saved https://encrypted-tbn0.gstatic.com/images?q=tbn%3AANd9GcQ3onLpYwjkzC4doakHdWrGSB5CmECrLaabyQ&usqp=CAU - as C:\\Users\\vivek\\Desktop\\New folder\\images\\terrorist\\indian_terrorist_photos\\4991bd7e0e.jpg\n",
      "SUCCESS - saved https://encrypted-tbn0.gstatic.com/images?q=tbn%3AANd9GcQPF6UlUOUNiXu5iygrSlBUaIDSVCcyyGJwnA&usqp=CAU - as C:\\Users\\vivek\\Desktop\\New folder\\images\\terrorist\\indian_terrorist_photos\\f5cd10dcff.jpg\n",
      "SUCCESS - saved https://images.outlookindia.com/public/uploads/gallery/20180214/Terrorist_20180215_402_602.jpg - as C:\\Users\\vivek\\Desktop\\New folder\\images\\terrorist\\indian_terrorist_photos\\f37b6f55d7.jpg\n",
      "SUCCESS - saved https://encrypted-tbn0.gstatic.com/images?q=tbn%3AANd9GcRjRWgyJnL8J168uIBULI_IkTGAnlgtcD9lUg&usqp=CAU - as C:\\Users\\vivek\\Desktop\\New folder\\images\\terrorist\\indian_terrorist_photos\\0de676794b.jpg\n",
      "SUCCESS - saved https://encrypted-tbn0.gstatic.com/images?q=tbn%3AANd9GcSLy78C8frX8l9Cm80FWmnUrY6tuw4S00qUFg&usqp=CAU - as C:\\Users\\vivek\\Desktop\\New folder\\images\\terrorist\\indian_terrorist_photos\\48ad6f2128.jpg\n",
      "SUCCESS - saved https://encrypted-tbn0.gstatic.com/images?q=tbn%3AANd9GcRNwnKMMfjlEgU42ANu2cTFW0E0EHGOgvGwow&usqp=CAU - as C:\\Users\\vivek\\Desktop\\New folder\\images\\terrorist\\indian_terrorist_photos\\fb7c4eeab2.jpg\n",
      "SUCCESS - saved https://images.indianexpress.com/2016/01/pathankotiaf759.jpg - as C:\\Users\\vivek\\Desktop\\New folder\\images\\terrorist\\indian_terrorist_photos\\66b386420b.jpg\n",
      "SUCCESS - saved https://encrypted-tbn0.gstatic.com/images?q=tbn%3AANd9GcRX7Bvy1QFQNtdWmQlzArC6ISxeiVG2P3Y7Hw&usqp=CAU - as C:\\Users\\vivek\\Desktop\\New folder\\images\\terrorist\\indian_terrorist_photos\\80fdf623e3.jpg\n",
      "SUCCESS - saved https://images.moneycontrol.com/static-mcnews/2017/04/MasoodAzhar-770x433.jpg?impolicy=website&width=770&height=431 - as C:\\Users\\vivek\\Desktop\\New folder\\images\\terrorist\\indian_terrorist_photos\\e7c6d53704.jpg\n",
      "SUCCESS - saved https://img.washingtonpost.com/rf/image_480w/2010-2019/WashingtonPost/2012/11/21/Foreign/Images/India_Mumbai_Attacks_0746c.jpg?uuid=ovh1nDOaEeK_1eICtte1AQ - as C:\\Users\\vivek\\Desktop\\New folder\\images\\terrorist\\indian_terrorist_photos\\c7e2cb5b0e.jpg\n",
      "SUCCESS - saved https://img.etimg.com/thumb/msid-68167772,width-300,imgsize-507974,resizemode-4/masood.jpg - as C:\\Users\\vivek\\Desktop\\New folder\\images\\terrorist\\indian_terrorist_photos\\edc9e4064d.jpg\n",
      "SUCCESS - saved https://encrypted-tbn0.gstatic.com/images?q=tbn%3AANd9GcQa8HlB2iuEZfPXbBbAPT8gSZ-U7w-HEEF4Cw&usqp=CAU - as C:\\Users\\vivek\\Desktop\\New folder\\images\\terrorist\\indian_terrorist_photos\\07b9fdafd2.jpg\n"
     ]
    },
    {
     "name": "stdout",
     "output_type": "stream",
     "text": [
      "SUCCESS - saved https://encrypted-tbn0.gstatic.com/images?q=tbn%3AANd9GcSjdPpc7m_8G3aADRP5uY5POR7l4RZkJTMttg&usqp=CAU - as C:\\Users\\vivek\\Desktop\\New folder\\images\\terrorist\\indian_terrorist_photos\\ef093ed2da.jpg\n",
      "SUCCESS - saved https://encrypted-tbn0.gstatic.com/images?q=tbn%3AANd9GcTARKBxq012nuhRedAAsd-bxtM0H4jI5CSSnw&usqp=CAU - as C:\\Users\\vivek\\Desktop\\New folder\\images\\terrorist\\indian_terrorist_photos\\1f53b471ba.jpg\n",
      "SUCCESS - saved https://encrypted-tbn0.gstatic.com/images?q=tbn%3AANd9GcRdpB2v_DZDl9XUJkcA7EQRfXcSQl34u2fPwQ&usqp=CAU - as C:\\Users\\vivek\\Desktop\\New folder\\images\\terrorist\\indian_terrorist_photos\\e3d3ade7d9.jpg\n",
      "SUCCESS - saved https://encrypted-tbn0.gstatic.com/images?q=tbn%3AANd9GcT_ZbLRA-qGEyy9H_Ch1-Nobcw9ZaSqXFoj1g&usqp=CAU - as C:\\Users\\vivek\\Desktop\\New folder\\images\\terrorist\\indian_terrorist_photos\\5ff9f4264d.jpg\n",
      "SUCCESS - saved https://encrypted-tbn0.gstatic.com/images?q=tbn%3AANd9GcQz61wx841EkDzIOzLxZi19DDlwI9EOnOJUlg&usqp=CAU - as C:\\Users\\vivek\\Desktop\\New folder\\images\\terrorist\\indian_terrorist_photos\\db5d224b4b.jpg\n",
      "SUCCESS - saved https://encrypted-tbn0.gstatic.com/images?q=tbn%3AANd9GcTQteto4sw721OnnytBJPuCcSp1zLOUnj7xcA&usqp=CAU - as C:\\Users\\vivek\\Desktop\\New folder\\images\\terrorist\\indian_terrorist_photos\\a14a9f5aed.jpg\n"
     ]
    }
   ],
   "source": [
    "search_term='indian terrorist photos'\n",
    "search_and_download(\n",
    "    search_term=search_term,\n",
    "    driver_path=DRIVER_PATH\n",
    ")"
   ]
  },
  {
   "cell_type": "code",
   "execution_count": null,
   "metadata": {},
   "outputs": [],
   "source": []
  },
  {
   "cell_type": "code",
   "execution_count": null,
   "metadata": {},
   "outputs": [],
   "source": []
  }
 ],
 "metadata": {
  "kernelspec": {
   "display_name": "Python 3",
   "language": "python",
   "name": "python3"
  },
  "language_info": {
   "codemirror_mode": {
    "name": "ipython",
    "version": 3
   },
   "file_extension": ".py",
   "mimetype": "text/x-python",
   "name": "python",
   "nbconvert_exporter": "python",
   "pygments_lexer": "ipython3",
   "version": "3.7.3"
  }
 },
 "nbformat": 4,
 "nbformat_minor": 2
}
