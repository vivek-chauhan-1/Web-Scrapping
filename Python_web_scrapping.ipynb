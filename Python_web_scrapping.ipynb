{
 "cells": [
  {
   "cell_type": "code",
   "execution_count": 1,
   "metadata": {},
   "outputs": [
    {
     "name": "stdout",
     "output_type": "stream",
     "text": [
      "Libraries imported.\n"
     ]
    }
   ],
   "source": [
    "import numpy as np # library to handle data in a vectorized manner\n",
    "\n",
    "import pandas as pd # library for data analsysis\n",
    "pd.set_option(\"display.max_columns\", None)\n",
    "pd.set_option(\"display.max_rows\", None)\n",
    "\n",
    "import json # library to handle JSON files\n",
    "\n",
    "from geopy.geocoders import Nominatim # convert an address into latitude and longitude values\n",
    "\n",
    "import requests # library to handle requests\n",
    "from bs4 import BeautifulSoup # library to parse HTML and XML documents\n",
    "\n",
    "from pandas.io.json import json_normalize # tranform JSON file into a pandas dataframe\n",
    "\n",
    "# Matplotlib and associated plotting modules\n",
    "import matplotlib.cm as cm\n",
    "import matplotlib.colors as colors\n",
    "\n",
    "# import k-means from clustering stage\n",
    "from sklearn.cluster import KMeans\n",
    "\n",
    "import folium # map rendering library\n",
    "\n",
    "print(\"Libraries imported.\")"
   ]
  },
  {
   "cell_type": "code",
   "execution_count": 2,
   "metadata": {},
   "outputs": [],
   "source": [
    "#url used \n",
    "URL = \"https://en.wikipedia.org/wiki/List_of_postal_codes_of_Canada:_M\"\n",
    "res = requests.get(URL).text\n",
    "soup = BeautifulSoup(res,'lxml')  # forming a soup object\n",
    "#print(soup.prettify())\n",
    "#my_table = soup.find('table',{'class':'wikitable sortable'})\n",
    "#print(my_table)\n",
    "Postal_Code,Borough,Neighbourhood=[],[],[]      # empty lists to store row values\n",
    "for items in soup.find('table', class_='wikitable sortable').find_all('tr'):        #in table field find all rows\n",
    "    data = items.find_all(['td'])   #can ignore the header field\n",
    "    #print(data)\n",
    "    try:\n",
    "        Postal_Code.append(data[0].find(text=True).replace('\\n',''))   #replace to remove newline character\n",
    "        Borough.append(data[1].find(text=True).replace('\\n',''))\n",
    "        Neighbourhood.append(data[2].find(text=True).replace('\\n',''))\n",
    "        #print(Postal_Code,Borough,Neighbourhood)\n",
    "    except:\n",
    "        pass\n",
    "    \n",
    "    \n",
    "#Form a Dataframe \n",
    "df=pd.DataFrame(Postal_Code,columns=['Postal_Code'])\n",
    "df['Borough']=Borough\n",
    "df['Neighbourhood']=Neighbourhood\n",
    "df_n=df[df['Borough']!=\"Not assigned\"]    # new dataframe after dropping rows with not assigned value in 'Neighbourhood column'\n",
    "df_n.reset_index(drop=True,inplace=True)\n",
    "#df_n[df_n.Neighbourhood == \"Not assigned\"]"
   ]
  },
  {
   "cell_type": "code",
   "execution_count": 3,
   "metadata": {},
   "outputs": [],
   "source": [
    "#To assign the Borough field to Neighbourhood in case it is Not assigned\n",
    "for i in range(len(df_n)):\n",
    "    if df_n['Neighbourhood'].iloc[i]==\"Not assigned\":\n",
    "        df_n['Neighbourhood'].iloc[i]=df_n['Borough'].iloc[i]\n",
    "        print(df_n['Neighbourhood'])"
   ]
  },
  {
   "cell_type": "code",
   "execution_count": 4,
   "metadata": {},
   "outputs": [],
   "source": [
    "df_n = df_n.groupby(['Postal_Code', 'Borough'])['Neighbourhood'].apply(lambda x: ', '.join(x)).to_frame()\n",
    "df_n.reset_index(inplace=True)"
   ]
  },
  {
   "cell_type": "code",
   "execution_count": 5,
   "metadata": {},
   "outputs": [
    {
     "name": "stdout",
     "output_type": "stream",
     "text": [
      "(103, 3)\n"
     ]
    }
   ],
   "source": [
    "#Display the shape of final dataframe\n",
    "print(df_n.shape)"
   ]
  }
 ],
 "metadata": {
  "kernelspec": {
   "display_name": "Python 3",
   "language": "python",
   "name": "python3"
  },
  "language_info": {
   "codemirror_mode": {
    "name": "ipython",
    "version": 3
   },
   "file_extension": ".py",
   "mimetype": "text/x-python",
   "name": "python",
   "nbconvert_exporter": "python",
   "pygments_lexer": "ipython3",
   "version": "3.7.3"
  }
 },
 "nbformat": 4,
 "nbformat_minor": 2
}
